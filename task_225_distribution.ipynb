{
 "cells": [
  {
   "cell_type": "markdown",
   "id": "e7e6a34c",
   "metadata": {},
   "source": [
    "# Bernoulli distribution\n",
    "* mean = p\n",
    "* variance = pq = p(1-p)\n",
    "* std = sqare root(variance) = variance ** 0.5"
   ]
  },
  {
   "cell_type": "code",
   "execution_count": 4,
   "id": "61af81cb",
   "metadata": {},
   "outputs": [
    {
     "name": "stdout",
     "output_type": "stream",
     "text": [
      "mean     :  0.4\n",
      "variance :  0.24\n",
      "std      :  0.4898979485566356\n"
     ]
    }
   ],
   "source": [
    "# Bernoulli distribution\n",
    "\n",
    "def bernoulli(p):\n",
    "    mean = p\n",
    "    variance = p*(1-p)\n",
    "    std = variance ** 0.5\n",
    "    print('mean     : ',mean)\n",
    "    print('variance : ',variance)\n",
    "    print('std      : ',std)\n",
    "p = 0.4\n",
    "bernoulli(p)"
   ]
  },
  {
   "cell_type": "markdown",
   "id": "10ed5631",
   "metadata": {},
   "source": [
    "# Binomial distribution\n",
    "* Mean = np\n",
    "* Variance = npq\n",
    "* std = sqare root(variance) = variance ** 0.5"
   ]
  },
  {
   "cell_type": "code",
   "execution_count": 8,
   "id": "ab08ca80",
   "metadata": {},
   "outputs": [
    {
     "name": "stdout",
     "output_type": "stream",
     "text": [
      "mean     :  2.0\n",
      "variance :  1.2\n",
      "std      :  1.0954451150103321\n"
     ]
    }
   ],
   "source": [
    "# Binomial distribution\n",
    "\n",
    "def binomial(p,n):\n",
    "    mean = n*p\n",
    "    variance = n*p*(1-p)\n",
    "    std = variance ** 0.5\n",
    "    print('mean     : ',mean)\n",
    "    print('variance : ',variance)\n",
    "    print('std      : ',std)\n",
    "p = 0.4\n",
    "n = 5\n",
    "binomial(p,n)"
   ]
  },
  {
   "cell_type": "code",
   "execution_count": null,
   "id": "24b13ea7",
   "metadata": {},
   "outputs": [],
   "source": []
  }
 ],
 "metadata": {
  "kernelspec": {
   "display_name": "Python 3 (ipykernel)",
   "language": "python",
   "name": "python3"
  },
  "language_info": {
   "codemirror_mode": {
    "name": "ipython",
    "version": 3
   },
   "file_extension": ".py",
   "mimetype": "text/x-python",
   "name": "python",
   "nbconvert_exporter": "python",
   "pygments_lexer": "ipython3",
   "version": "3.10.9"
  }
 },
 "nbformat": 4,
 "nbformat_minor": 5
}
